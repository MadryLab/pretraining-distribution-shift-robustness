{
 "cells": [
  {
   "cell_type": "code",
   "execution_count": 1,
   "id": "c0d31a5d-7fa2-48f8-a36f-1369d0a8d4ee",
   "metadata": {},
   "outputs": [
    {
     "name": "stdout",
     "output_type": "stream",
     "text": [
      "/mnt/xfs/home/bencw/workspace/pretraining-distribution-shift-robustness\n"
     ]
    }
   ],
   "source": [
    "%load_ext autoreload\n",
    "%autoreload 2\n",
    "%cd .."
   ]
  },
  {
   "cell_type": "code",
   "execution_count": 2,
   "id": "cdd4531c-9835-4bc8-981f-45754c64ec0c",
   "metadata": {},
   "outputs": [],
   "source": [
    "import torch as ch\n",
    "from pathlib import Path\n",
    "from torchvision.datasets import CIFAR10\n",
    "from torchvision.transforms.functional import adjust_brightness\n",
    "from ffcv.fields import IntField, RGBImageField\n",
    "from ffcv.writer import DatasetWriter\n",
    "from src.experiment_manager.base import ExperimentManager\n",
    "import src.dataset_utils as dataset_utils\n",
    "import src.modeling as modeling\n",
    "from src.experiment_manager import model_manager"
   ]
  },
  {
   "cell_type": "code",
   "execution_count": 3,
   "id": "f008d455-f9a0-42fa-95e7-35d46a02699a",
   "metadata": {},
   "outputs": [],
   "source": [
    "CIFAR10_ROOT = None # TODO"
   ]
  },
  {
   "cell_type": "code",
   "execution_count": 4,
   "id": "6d66b330-8601-4c56-aca9-b432eaacedd8",
   "metadata": {},
   "outputs": [],
   "source": [
    "# Define a config to train a model\n",
    "MODEL_CONFIG = {\n",
    "    \"training\": {\n",
    "        \"optimizer\": \"sgd\",\n",
    "        \"lr\": 0.5,\n",
    "        \"lr_schedule\": \"triangle\",\n",
    "        \"weight_decay\": 5e-4,\n",
    "        \"momentum\": 0.9,\n",
    "        \"warmup_epochs\": 5,\n",
    "        \"epochs\": 24,\n",
    "        \"batch_size\": 512,\n",
    "        \"label_smoothing\": 0.1,\n",
    "        \"use_scaler\": True,\n",
    "        \"clip_grad\": False,\n",
    "        \"grad_clip_norm\": 1.0,\n",
    "        \"image_dtype\": \"float16\",\n",
    "        \"decoder\": \"simple\",\n",
    "        \"augmentation\": \"flip_translate_cutout\",\n",
    "        \"num_workers\": 10,\n",
    "    },\n",
    "    \"evaluation\": {\n",
    "        \"lr_tta\": False,\n",
    "    },\n",
    "    \"model\": {\n",
    "        \"model_name\": \"timm_resnet18\",\n",
    "        \"pretrained\": \"None\",\n",
    "        \"resize\": 224,\n",
    "    },\n",
    "}"
   ]
  },
  {
   "cell_type": "code",
   "execution_count": 5,
   "id": "65cfd5bc-d872-4a9a-887e-d74a9c43116a",
   "metadata": {},
   "outputs": [],
   "source": [
    "# Helper function to write and get FFCV datasets\n",
    "def get_ffcv_datasets(path, datasets, overwrite=False):\n",
    "    path = Path(path)\n",
    "    ffcv_datasets = {}\n",
    "    for name, dataset in datasets.items():\n",
    "        ffcv_path = (path / f\"{name}.beton\")\n",
    "        if not ffcv_path.exists() or overwrite:\n",
    "            ffcv_path.parent.mkdir(exist_ok=True, parents=True)\n",
    "            writer = DatasetWriter(\n",
    "                ffcv_path,\n",
    "                {\n",
    "                    \"image\": RGBImageField(),\n",
    "                    \"label\": IntField(),\n",
    "                },\n",
    "            )\n",
    "            writer.from_indexed_dataset(dataset)\n",
    "        ffcv_datasets[name] = dataset_utils.FFCVDataset(\n",
    "            ffcv_path,\n",
    "            10,\n",
    "        )\n",
    "    return ffcv_datasets"
   ]
  },
  {
   "cell_type": "code",
   "execution_count": 6,
   "id": "431f372d-5137-406c-8fd2-dda5f9bb1f39",
   "metadata": {},
   "outputs": [],
   "source": [
    "# Class for shifted version of CIFAR-10 with decreased brightness\n",
    "class LowBrightnessCIFAR10(ch.utils.data.Dataset):\n",
    "    def __init__(self, train):\n",
    "        self.dataset = CIFAR10(CIFAR10_ROOT, train=train)\n",
    "\n",
    "    def __getitem__(self, index):\n",
    "        image, label = self.dataset[index]\n",
    "        image = adjust_brightness(image, brightness_factor=0.5)\n",
    "        return image, label\n",
    "\n",
    "    def __len__(self):\n",
    "        return len(self.dataset)"
   ]
  },
  {
   "cell_type": "code",
   "execution_count": 7,
   "id": "34ad210e-fb70-43ed-9619-7990bfe8b562",
   "metadata": {},
   "outputs": [],
   "source": [
    "class ExampleExperimentManager(ExperimentManager):\n",
    "    def __init__(self, path, overwrite=False):\n",
    "        # In this example, our splits are\n",
    "        # - source_train (reference training dataset)\n",
    "        # - source_val (reference validation dataset)\n",
    "        # - target_val (shifted validation dataset)\n",
    "        self.datasets = {\n",
    "            \"source_train\": CIFAR10(CIFAR10_ROOT, train=True),\n",
    "            \"source_val\": CIFAR10(CIFAR10_ROOT, train=False),\n",
    "            \"target_val\": LowBrightnessCIFAR10(False),\n",
    "        }\n",
    "        self.ffcv_datasets = get_ffcv_datasets(Path(path) / \"datasets\", self.datasets, overwrite=overwrite)\n",
    "        super().__init__(path)\n",
    "        \n",
    "    def get_ffcv_dataset(self, split):\n",
    "        return self.ffcv_datasets[split]\n",
    "\n",
    "    def get_indices(self, split):\n",
    "        # indices are used to specify a subset of a dataset, but in this case splits correspond to the entire dataset\n",
    "        return None\n",
    "\n",
    "    def get_loader(self, split):\n",
    "        return modeling.make_loader(\n",
    "            self.get_ffcv_dataset(split),\n",
    "            indices=self.get_indices(split),\n",
    "            decoder=\"simple\",\n",
    "            train=\"train\" in split,\n",
    "            batch_size=512,\n",
    "            normalization_params=(0.0, 1.0),\n",
    "        )\n",
    "\n",
    "    def _make_model_managers(self):\n",
    "        model_managers = {}\n",
    "        \n",
    "        train_ffcv_dataset = self.get_ffcv_dataset(\"source_train\")\n",
    "        train_indices = self.get_indices(\"source_train\")\n",
    "\n",
    "        model_managers[\"baseline\"] = model_manager.SimpleModelManager(\n",
    "            train_ffcv_dataset,\n",
    "            train_indices,\n",
    "            MODEL_CONFIG,\n",
    "            group=\"Baseline\",\n",
    "        )\n",
    "\n",
    "        return model_managers"
   ]
  },
  {
   "cell_type": "code",
   "execution_count": 8,
   "id": "5aefb11a-398c-4604-8faf-9618f7601b3d",
   "metadata": {},
   "outputs": [],
   "source": [
    "path = Path(\"example_experiment\")\n",
    "manager = ExampleExperimentManager(path)"
   ]
  },
  {
   "cell_type": "code",
   "execution_count": 9,
   "id": "5eeacd35-dfc2-4c16-b381-3b17a2b100d0",
   "metadata": {},
   "outputs": [],
   "source": [
    "# Get the baseline model (will train and save the model if not already trained)\n",
    "model = manager.get_model(\"baseline\")"
   ]
  },
  {
   "cell_type": "code",
   "execution_count": 10,
   "id": "947a7fda-7ff9-4863-9424-7931b409546d",
   "metadata": {},
   "outputs": [
    {
     "data": {
      "text/plain": [
       "tensor([[-0.5193, -0.4019, -0.2739,  ..., -0.6208, -0.2327, -0.5738],\n",
       "        [ 0.0335,  0.0234, -0.5594,  ..., -0.4075,  3.6742, -0.8820],\n",
       "        [-0.6811,  0.7197, -0.6793,  ..., -0.5406,  3.6793, -0.6452],\n",
       "        ...,\n",
       "        [-0.3106, -0.2750, -0.4471,  ..., -0.6251, -0.3018, -0.3060],\n",
       "        [-0.7448,  3.8384, -0.3713,  ..., -0.3818, -0.4826, -0.7281],\n",
       "        [-0.4956, -0.4333, -0.3835,  ...,  4.2603, -0.3436, -0.4699]],\n",
       "       device='cuda:0')"
      ]
     },
     "execution_count": 10,
     "metadata": {},
     "output_type": "execute_result"
    }
   ],
   "source": [
    "# Get the predictions of the baseline model on the target (shifted) validation dataset\n",
    "manager.get_preds(\"baseline\", split_name=\"target_val\")"
   ]
  },
  {
   "cell_type": "code",
   "execution_count": 11,
   "id": "1be329aa-5187-467c-8556-80e4cd836363",
   "metadata": {},
   "outputs": [
    {
     "data": {
      "text/plain": [
       "{'baseline': 0.9388999938964844}"
      ]
     },
     "execution_count": 11,
     "metadata": {},
     "output_type": "execute_result"
    }
   ],
   "source": [
    "# Get the metrics (by default, just accuracy) of models on the source (reference) validation set\n",
    "manager.get_metrics(\"source_val\", ignore_unpredicted=False)"
   ]
  },
  {
   "cell_type": "code",
   "execution_count": 12,
   "id": "6525ac3c-83b1-48e1-afcd-1518499e6cc9",
   "metadata": {},
   "outputs": [
    {
     "data": {
      "text/plain": [
       "{'baseline': 0.9059999585151672}"
      ]
     },
     "execution_count": 12,
     "metadata": {},
     "output_type": "execute_result"
    }
   ],
   "source": [
    "# Get the metrics (by default, just accuracy) of models on the target (shifted) validation set\n",
    "manager.get_metrics(\"target_val\", ignore_unpredicted=False)"
   ]
  }
 ],
 "metadata": {
  "kernelspec": {
   "display_name": "Python 3 (ipykernel)",
   "language": "python",
   "name": "python3"
  },
  "language_info": {
   "codemirror_mode": {
    "name": "ipython",
    "version": 3
   },
   "file_extension": ".py",
   "mimetype": "text/x-python",
   "name": "python",
   "nbconvert_exporter": "python",
   "pygments_lexer": "ipython3",
   "version": "3.9.18"
  }
 },
 "nbformat": 4,
 "nbformat_minor": 5
}
